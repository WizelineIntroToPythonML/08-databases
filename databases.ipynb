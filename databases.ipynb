{
 "cells": [
  {
   "cell_type": "markdown",
   "metadata": {},
   "source": [
    "# Session 07\n",
    "\n",
    "## Databases, the Internet, and APIs\n",
    "\n",
    "![Course Hero](images/hero.png)\n",
    "\n",
    "## Secrets management\n",
    "\n",
    "To be able to connect to many data sources we need Credentials. They can be usernames, passwords, keys, tokens and more. Those credentials should be kept secret at all times, because if they are compromised OUR DATA gets compromised. And that is a disaster.\n",
    "\n",
    "[Equifax Data Breach]<https://en.wikipedia.org/wiki/2017_Equifax_data_breach>\n",
    "\n",
    "There are several ways to keep our credentials safe, for example:\n",
    "\n",
    "- Password managers ([LastPass]<https://www.lastpass.com>).\n",
    "- Secret Managers ([HashiCorp Vault]<https://www.hashicorp.com/products/vault>).\n",
    "\n",
    "### NEVER COMMIT SECRETS TO A REPOSITORY\n",
    "\n",
    "One HUGE mistake we do is to upload secrets to a repository. IT DOESN'T MATTER IF IT IS A PRIVATE repository.\n",
    "\n",
    "** NEVER WRITE DOWN SECRETS IN YOUR CODE **\n",
    "\n",
    "To use credentials in our Notebooks or programs we can:\n",
    "\n",
    "- Retrieve them programmatically from a service.\n",
    "- Set them up as environment variables.\n",
    "\n",
    "### Environment variables.\n",
    "\n",
    "They are values present on the Operating System."
   ]
  },
  {
   "cell_type": "code",
   "execution_count": 6,
   "metadata": {},
   "outputs": [
    {
     "name": "stdout",
     "output_type": "stream",
     "text": [
      "ELECTRON_RUN_AS_NODE=1\n",
      "CONDA_PYTHON_EXE=/usr/local/anaconda3/bin/python\n",
      "MCFLY_HISTORY_FORMAT=zsh-extended\n",
      "PWD=/Users/david.sol/dev/wizeline/introtoml/08-databases\n",
      "APPLICATION_INSIGHTS_NO_DIAGNOSTIC_CHANNEL=true\n",
      "MallocNanoZone=0\n",
      "MCFLY_SESSION_ID=RFWsMVyWdVgFdHzz94E7e60A\n",
      "USER=david.sol\n",
      "MCFLY_HISTORY=/var/folders/97/gsdyvg5s4cx9h0_p_g19rqqc0000gn/T/mcfly.XXXXXXXX.02rTVXUD\n",
      "ITERM_PROFILE=Normal\n",
      "NVM_SYMLINK_CURRENT=true\n",
      "VIRTUAL_ENV=/Users/david.sol/dev/wizeline/introtoml/08-databases/venv\n",
      "NVM_DIR=/Users/david.sol/.nvm\n",
      "LC_TERMINAL_VERSION=3.4.16\n",
      "COMMAND_MODE=unix2003\n",
      "__CFBundleIdentifier=com.microsoft.VSCode\n",
      "LC_CTYPE=UTF-8\n",
      "LOGNAME=david.sol\n",
      "TERM=xterm-color\n",
      "PATH=/Users/david.sol/dev/wizeline/introtoml/08-databases/venv/bin:/Users/david.sol/dev/wizeline/introtoml/08-databases/venv/bin:/Users/david.sol/dev/wizeline/introtoml/08-databases/venv/bin:/usr/local/sbin:/usr/local/opt/mysql-client/bin:/usr/local/anaconda3/condabin:/Users/david.sol/.nvm/versions/node/v16.15.1/bin:/usr/local/bin:/usr/bin:/bin:/usr/sbin:/sbin:/usr/local/MacGPG2/bin\n",
      "TIME_STYLE=long-iso\n",
      "DIRHISTORY_SIZE=30\n",
      "CONDA_EXE=/usr/local/anaconda3/bin/conda\n",
      "CONDA_SHLVL=0\n",
      "_CE_CONDA=\n",
      "ZSH=/Users/david.sol/.oh-my-zsh\n",
      "TERM_SESSION_ID=w0t0p0:7D55D3FA-67E4-4210-A62C-2909E895AF88\n",
      "SHLVL=3\n",
      "ELECTRON_NO_ATTACH_CONSOLE=1\n",
      "TERM_PROGRAM_VERSION=3.4.16\n",
      "PAGER=cat\n",
      "SSH_AUTH_SOCK=/private/tmp/com.apple.launchd.nXNk76GtCo/Listeners\n",
      "NVM_CD_FLAGS=-q\n",
      "VSCODE_CWD=/Users/david.sol/dev/wizeline/introtoml/08-databases\n",
      "COLORTERM=truecolor\n",
      "HOME=/Users/david.sol\n",
      "HISTFILE=/Users/david.sol/.zsh_history\n",
      "SHELL=/bin/zsh\n",
      "LESS=-R\n",
      "__CF_USER_TEXT_ENCODING=0x1F5:0x0:0x0\n",
      "_CE_M=\n",
      "VSCODE_CLI=1\n",
      "COLORFGBG=15;0\n",
      "LC_TERMINAL=iTerm2\n",
      "LSCOLORS=Gxfxcxdxbxegedabagacad\n",
      "TERM_PROGRAM=iTerm.app\n",
      "TMPDIR=/var/folders/97/gsdyvg5s4cx9h0_p_g19rqqc0000gn/T/\n",
      "NVM_INC=/Users/david.sol/.nvm/versions/node/v16.15.1/include/node\n",
      "ITERM_SESSION_ID=w0t0p0:7D55D3FA-67E4-4210-A62C-2909E895AF88\n",
      "NVM_BIN=/Users/david.sol/.nvm/versions/node/v16.15.1/bin\n",
      "XPC_SERVICE_NAME=0\n",
      "XPC_FLAGS=0x0\n",
      "ORIGINAL_XDG_CURRENT_DESKTOP=undefined\n",
      "VSCODE_NLS_CONFIG={\"locale\":\"en-us\",\"availableLanguages\":{},\"_languagePackSupport\":true}\n",
      "VSCODE_CODE_CACHE_PATH=/Users/david.sol/Library/Application Support/Code/CachedData/3b889b090b5ad5793f524b5d1d39fda662b96a2a\n",
      "VSCODE_IPC_HOOK=/Users/david.sol/Library/Application Support/Code/1.69.2-main.sock\n",
      "VSCODE_PID=9112\n",
      "VSCODE_AMD_ENTRYPOINT=vs/workbench/api/node/extensionHostProcess\n",
      "VSCODE_HANDLES_UNCAUGHT_ERRORS=true\n",
      "PYTHONUNBUFFERED=1\n",
      "PYTHONIOENCODING=utf-8\n",
      "PS1=(venv) \n",
      "CLICOLOR=1\n",
      "GIT_PAGER=cat\n",
      "MPLBACKEND=module://matplotlib_inline.backend_inline\n",
      "OLDPWD=/Users/david.sol/dev/wizeline/introtoml/08-databases\n",
      "_=/usr/bin/env\n"
     ]
    }
   ],
   "source": [
    "!env"
   ]
  },
  {
   "cell_type": "markdown",
   "metadata": {},
   "source": [
    "And we can retrieve them from python..."
   ]
  },
  {
   "cell_type": "code",
   "execution_count": 14,
   "metadata": {},
   "outputs": [
    {
     "name": "stdout",
     "output_type": "stream",
     "text": [
      "ELECTRON_RUN_AS_NODE 1\n",
      "CONDA_PYTHON_EXE /usr/local/anaconda3/bin/python\n",
      "MCFLY_HISTORY_FORMAT zsh-extended\n",
      "PWD /Users/david.sol/dev/wizeline/introtoml/08-databases\n",
      "APPLICATION_INSIGHTS_NO_DIAGNOSTIC_CHANNEL true\n",
      "MallocNanoZone 0\n",
      "MCFLY_SESSION_ID RFWsMVyWdVgFdHzz94E7e60A\n",
      "USER david.sol\n",
      "MCFLY_HISTORY /var/folders/97/gsdyvg5s4cx9h0_p_g19rqqc0000gn/T/mcfly.XXXXXXXX.02rTVXUD\n",
      "ITERM_PROFILE Normal\n",
      "NVM_SYMLINK_CURRENT true\n",
      "VIRTUAL_ENV /Users/david.sol/dev/wizeline/introtoml/08-databases/venv\n",
      "NVM_DIR /Users/david.sol/.nvm\n",
      "LC_TERMINAL_VERSION 3.4.16\n",
      "COMMAND_MODE unix2003\n",
      "__CFBundleIdentifier com.microsoft.VSCode\n",
      "LC_CTYPE UTF-8\n",
      "LOGNAME david.sol\n",
      "TERM xterm-color\n",
      "PATH /Users/david.sol/dev/wizeline/introtoml/08-databases/venv/bin:/Users/david.sol/dev/wizeline/introtoml/08-databases/venv/bin:/Users/david.sol/dev/wizeline/introtoml/08-databases/venv/bin:/usr/local/sbin:/usr/local/opt/mysql-client/bin:/usr/local/anaconda3/condabin:/Users/david.sol/.nvm/versions/node/v16.15.1/bin:/usr/local/bin:/usr/bin:/bin:/usr/sbin:/sbin:/usr/local/MacGPG2/bin\n",
      "TIME_STYLE long-iso\n",
      "DIRHISTORY_SIZE 30\n",
      "CONDA_EXE /usr/local/anaconda3/bin/conda\n",
      "CONDA_SHLVL 0\n",
      "_CE_CONDA \n",
      "ZSH /Users/david.sol/.oh-my-zsh\n",
      "TERM_SESSION_ID w0t0p0:7D55D3FA-67E4-4210-A62C-2909E895AF88\n",
      "SHLVL 3\n",
      "ELECTRON_NO_ATTACH_CONSOLE 1\n",
      "TERM_PROGRAM_VERSION 3.4.16\n",
      "PAGER cat\n",
      "SSH_AUTH_SOCK /private/tmp/com.apple.launchd.nXNk76GtCo/Listeners\n",
      "NVM_CD_FLAGS -q\n",
      "VSCODE_CWD /Users/david.sol/dev/wizeline/introtoml/08-databases\n",
      "COLORTERM truecolor\n",
      "HOME /Users/david.sol\n",
      "HISTFILE /Users/david.sol/.zsh_history\n",
      "SHELL /bin/zsh\n",
      "LESS -R\n",
      "__CF_USER_TEXT_ENCODING 0x1F5:0x0:0x0\n",
      "_CE_M \n",
      "VSCODE_CLI 1\n",
      "COLORFGBG 15;0\n",
      "LC_TERMINAL iTerm2\n",
      "LSCOLORS Gxfxcxdxbxegedabagacad\n",
      "TERM_PROGRAM iTerm.app\n",
      "TMPDIR /var/folders/97/gsdyvg5s4cx9h0_p_g19rqqc0000gn/T/\n",
      "NVM_INC /Users/david.sol/.nvm/versions/node/v16.15.1/include/node\n",
      "ITERM_SESSION_ID w0t0p0:7D55D3FA-67E4-4210-A62C-2909E895AF88\n",
      "NVM_BIN /Users/david.sol/.nvm/versions/node/v16.15.1/bin\n",
      "XPC_SERVICE_NAME 0\n",
      "XPC_FLAGS 0x0\n",
      "ORIGINAL_XDG_CURRENT_DESKTOP undefined\n",
      "VSCODE_NLS_CONFIG {\"locale\":\"en-us\",\"availableLanguages\":{},\"_languagePackSupport\":true}\n",
      "VSCODE_CODE_CACHE_PATH /Users/david.sol/Library/Application Support/Code/CachedData/3b889b090b5ad5793f524b5d1d39fda662b96a2a\n",
      "VSCODE_IPC_HOOK /Users/david.sol/Library/Application Support/Code/1.69.2-main.sock\n",
      "VSCODE_PID 9112\n",
      "VSCODE_AMD_ENTRYPOINT vs/workbench/api/node/extensionHostProcess\n",
      "VSCODE_HANDLES_UNCAUGHT_ERRORS true\n",
      "PYTHONUNBUFFERED 1\n",
      "PYTHONIOENCODING utf-8\n",
      "PS1 (venv) \n",
      "_ /Users/david.sol/dev/wizeline/introtoml/08-databases/venv/bin/python\n",
      "CLICOLOR 1\n",
      "GIT_PAGER cat\n",
      "MPLBACKEND module://matplotlib_inline.backend_inline\n"
     ]
    }
   ],
   "source": [
    "import os\n",
    "\n",
    "for key, value in os.environ.items():\n",
    "    print(key,value)"
   ]
  },
  {
   "cell_type": "markdown",
   "metadata": {},
   "source": [
    "We can set new environment variables..."
   ]
  },
  {
   "cell_type": "code",
   "execution_count": 15,
   "metadata": {},
   "outputs": [],
   "source": [
    "os.environ[\"MY_SECRET\"]=\"The_credentials_go_here\""
   ]
  },
  {
   "cell_type": "code",
   "execution_count": 16,
   "metadata": {},
   "outputs": [
    {
     "name": "stdout",
     "output_type": "stream",
     "text": [
      "The_credentials_go_here\n"
     ]
    }
   ],
   "source": [
    "print(os.environ[\"MY_SECRET\"])"
   ]
  },
  {
   "cell_type": "markdown",
   "metadata": {},
   "source": [
    "To keep credentials safe is a very important and vast subject. The important things to remember are:\n",
    "\n",
    "- **NEVER WRITE CREDENTIALS IN THE CODE**\n",
    "- Really: **NEVER WRITE CREDENTIALS IN THE CODE**, even if it is a private repository and/or the credentials are encrypted.\n",
    "- We need to take all necessary measures to keep our credentials safe."
   ]
  },
  {
   "cell_type": "markdown",
   "metadata": {},
   "source": [
    "## Databases\n",
    "\n",
    "Many times our data comes from Databases. IT is very easy to read data from a Database with pandas.\n",
    "\n",
    "Note: For this exercise we will use an \"integrated SQL server\" called SQL Lite, which is included in Python. The data of the Database is in the file `fligths.db`."
   ]
  },
  {
   "cell_type": "code",
   "execution_count": 24,
   "metadata": {},
   "outputs": [],
   "source": [
    "from pprint import pprint\n",
    "import sqlite3\n",
    "\n",
    "database = sqlite3.connect(\"flights.db\")\n",
    "\n",
    "cursor = database.cursor()"
   ]
  },
  {
   "cell_type": "code",
   "execution_count": 34,
   "metadata": {},
   "outputs": [
    {
     "name": "stdout",
     "output_type": "stream",
     "text": [
      "--------------------\n",
      "(0,\n",
      " '1',\n",
      " 'Private '\n",
      " 'flight',\n",
      " '\\\\N',\n",
      " '-',\n",
      " None,\n",
      " None,\n",
      " None,\n",
      " 'Y')\n",
      "--------------------\n",
      "(1,\n",
      " '2',\n",
      " '135 '\n",
      " 'Airways',\n",
      " '\\\\N',\n",
      " None,\n",
      " 'GNL',\n",
      " 'GENERAL',\n",
      " 'United '\n",
      " 'States',\n",
      " 'N')\n",
      "--------------------\n",
      "(2,\n",
      " '3',\n",
      " '1Time '\n",
      " 'Airline',\n",
      " '\\\\N',\n",
      " '1T',\n",
      " 'RNX',\n",
      " 'NEXTIME',\n",
      " 'South '\n",
      " 'Africa',\n",
      " 'Y')\n",
      "--------------------\n",
      "(3,\n",
      " '4',\n",
      " '2 Sqn '\n",
      " 'No 1 '\n",
      " 'Elementary '\n",
      " 'Flying '\n",
      " 'Training '\n",
      " 'School',\n",
      " '\\\\N',\n",
      " None,\n",
      " 'WYT',\n",
      " None,\n",
      " 'United '\n",
      " 'Kingdom',\n",
      " 'N')\n",
      "--------------------\n",
      "(4,\n",
      " '5',\n",
      " '213 '\n",
      " 'Flight '\n",
      " 'Unit',\n",
      " '\\\\N',\n",
      " None,\n",
      " 'TFU',\n",
      " None,\n",
      " 'Russia',\n",
      " 'N')\n"
     ]
    }
   ],
   "source": [
    "for record in cursor.execute(\"select * from airlines limit 5;\"):\n",
    "    print(\"-\" * 20)\n",
    "    pprint(record, width=10)"
   ]
  },
  {
   "cell_type": "markdown",
   "metadata": {},
   "source": [
    "To send the data to a pandas DataFrame we use the `read_sql_query` method."
   ]
  },
  {
   "cell_type": "code",
   "execution_count": 1,
   "metadata": {
    "collapsed": false,
    "pycharm": {
     "name": "#%%\n"
    }
   },
   "outputs": [],
   "source": [
    "import numpy as np\n",
    "import pandas as pd"
   ]
  },
  {
   "cell_type": "code",
   "execution_count": 2,
   "metadata": {},
   "outputs": [
    {
     "ename": "NameError",
     "evalue": "name 'database' is not defined",
     "output_type": "error",
     "traceback": [
      "\u001b[0;31m---------------------------------------------------------------------------\u001b[0m",
      "\u001b[0;31mNameError\u001b[0m                                 Traceback (most recent call last)",
      "\u001b[1;32m/Users/david.sol/dev/wizeline/introtoml/08-databases/databases.ipynb Cell 14\u001b[0m in \u001b[0;36m<cell line: 1>\u001b[0;34m()\u001b[0m\n\u001b[0;32m----> <a href='vscode-notebook-cell:/Users/david.sol/dev/wizeline/introtoml/08-databases/databases.ipynb#ch0000041?line=0'>1</a>\u001b[0m airlines \u001b[39m=\u001b[39m pd\u001b[39m.\u001b[39mread_sql_query(\u001b[39m\"\u001b[39m\u001b[39mselect * from airlines\u001b[39m\u001b[39m\"\u001b[39m, database)\n\u001b[1;32m      <a href='vscode-notebook-cell:/Users/david.sol/dev/wizeline/introtoml/08-databases/databases.ipynb#ch0000041?line=2'>3</a>\u001b[0m airlines\u001b[39m.\u001b[39mdescribe(include\u001b[39m=\u001b[39m\u001b[39m\"\u001b[39m\u001b[39mall\u001b[39m\u001b[39m\"\u001b[39m)\n",
      "\u001b[0;31mNameError\u001b[0m: name 'database' is not defined"
     ]
    }
   ],
   "source": [
    "airlines = pd.read_sql_query(\"select * from airlines\", database)\n",
    "\n",
    "airlines.describe(include=\"all\")"
   ]
  },
  {
   "cell_type": "code",
   "execution_count": 37,
   "metadata": {},
   "outputs": [
    {
     "data": {
      "text/html": [
       "<div>\n",
       "<style scoped>\n",
       "    .dataframe tbody tr th:only-of-type {\n",
       "        vertical-align: middle;\n",
       "    }\n",
       "\n",
       "    .dataframe tbody tr th {\n",
       "        vertical-align: top;\n",
       "    }\n",
       "\n",
       "    .dataframe thead th {\n",
       "        text-align: right;\n",
       "    }\n",
       "</style>\n",
       "<table border=\"1\" class=\"dataframe\">\n",
       "  <thead>\n",
       "    <tr style=\"text-align: right;\">\n",
       "      <th></th>\n",
       "      <th>index</th>\n",
       "      <th>id</th>\n",
       "      <th>name</th>\n",
       "      <th>alias</th>\n",
       "      <th>iata</th>\n",
       "      <th>icao</th>\n",
       "      <th>callsign</th>\n",
       "      <th>country</th>\n",
       "      <th>active</th>\n",
       "    </tr>\n",
       "  </thead>\n",
       "  <tbody>\n",
       "    <tr>\n",
       "      <th>0</th>\n",
       "      <td>0</td>\n",
       "      <td>1</td>\n",
       "      <td>Private flight</td>\n",
       "      <td>\\N</td>\n",
       "      <td>-</td>\n",
       "      <td>None</td>\n",
       "      <td>None</td>\n",
       "      <td>None</td>\n",
       "      <td>Y</td>\n",
       "    </tr>\n",
       "    <tr>\n",
       "      <th>1</th>\n",
       "      <td>1</td>\n",
       "      <td>2</td>\n",
       "      <td>135 Airways</td>\n",
       "      <td>\\N</td>\n",
       "      <td>None</td>\n",
       "      <td>GNL</td>\n",
       "      <td>GENERAL</td>\n",
       "      <td>United States</td>\n",
       "      <td>N</td>\n",
       "    </tr>\n",
       "    <tr>\n",
       "      <th>2</th>\n",
       "      <td>2</td>\n",
       "      <td>3</td>\n",
       "      <td>1Time Airline</td>\n",
       "      <td>\\N</td>\n",
       "      <td>1T</td>\n",
       "      <td>RNX</td>\n",
       "      <td>NEXTIME</td>\n",
       "      <td>South Africa</td>\n",
       "      <td>Y</td>\n",
       "    </tr>\n",
       "    <tr>\n",
       "      <th>3</th>\n",
       "      <td>3</td>\n",
       "      <td>4</td>\n",
       "      <td>2 Sqn No 1 Elementary Flying Training School</td>\n",
       "      <td>\\N</td>\n",
       "      <td>None</td>\n",
       "      <td>WYT</td>\n",
       "      <td>None</td>\n",
       "      <td>United Kingdom</td>\n",
       "      <td>N</td>\n",
       "    </tr>\n",
       "    <tr>\n",
       "      <th>4</th>\n",
       "      <td>4</td>\n",
       "      <td>5</td>\n",
       "      <td>213 Flight Unit</td>\n",
       "      <td>\\N</td>\n",
       "      <td>None</td>\n",
       "      <td>TFU</td>\n",
       "      <td>None</td>\n",
       "      <td>Russia</td>\n",
       "      <td>N</td>\n",
       "    </tr>\n",
       "  </tbody>\n",
       "</table>\n",
       "</div>"
      ],
      "text/plain": [
       "   index id                                          name alias  iata  icao  \\\n",
       "0      0  1                                Private flight    \\N     -  None   \n",
       "1      1  2                                   135 Airways    \\N  None   GNL   \n",
       "2      2  3                                 1Time Airline    \\N    1T   RNX   \n",
       "3      3  4  2 Sqn No 1 Elementary Flying Training School    \\N  None   WYT   \n",
       "4      4  5                               213 Flight Unit    \\N  None   TFU   \n",
       "\n",
       "  callsign         country active  \n",
       "0     None            None      Y  \n",
       "1  GENERAL   United States      N  \n",
       "2  NEXTIME    South Africa      Y  \n",
       "3     None  United Kingdom      N  \n",
       "4     None          Russia      N  "
      ]
     },
     "execution_count": 37,
     "metadata": {},
     "output_type": "execute_result"
    }
   ],
   "source": [
    "airlines.head(5)"
   ]
  },
  {
   "cell_type": "code",
   "execution_count": 38,
   "metadata": {},
   "outputs": [],
   "source": [
    "cursor.close()\n",
    "database.close()"
   ]
  },
  {
   "cell_type": "markdown",
   "metadata": {},
   "source": [
    "## Reading from HTML\n",
    "\n",
    "Note: We need to install the `lxml` and `html5lib` modules.\n",
    "\n",
    "The `read_html` module lets us read all the html tables in a webpage.\n",
    "\n",
    "As an example we will use the [Wikipedia Webpage for México](https://en.wikipedia.org/wiki/Mexico)."
   ]
  },
  {
   "cell_type": "code",
   "execution_count": 16,
   "metadata": {
    "collapsed": false,
    "jupyter": {
     "outputs_hidden": false
    },
    "pycharm": {
     "name": "#%%\n"
    }
   },
   "outputs": [
    {
     "data": {
      "text/plain": [
       "12"
      ]
     },
     "execution_count": 16,
     "metadata": {},
     "output_type": "execute_result"
    }
   ],
   "source": [
    "tables = pd.read_html(\"https://en.wikipedia.org/wiki/Mexico\")\n",
    "\n",
    "len(tables)"
   ]
  },
  {
   "cell_type": "markdown",
   "metadata": {},
   "source": [
    "There are 12 HTML Tables in the page. Let´s see the first table."
   ]
  },
  {
   "cell_type": "code",
   "execution_count": 14,
   "metadata": {},
   "outputs": [
    {
     "data": {
      "text/html": [
       "<div>\n",
       "<style scoped>\n",
       "    .dataframe tbody tr th:only-of-type {\n",
       "        vertical-align: middle;\n",
       "    }\n",
       "\n",
       "    .dataframe tbody tr th {\n",
       "        vertical-align: top;\n",
       "    }\n",
       "\n",
       "    .dataframe thead th {\n",
       "        text-align: right;\n",
       "    }\n",
       "</style>\n",
       "<table border=\"1\" class=\"dataframe\">\n",
       "  <thead>\n",
       "    <tr style=\"text-align: right;\">\n",
       "      <th></th>\n",
       "      <th>United Mexican StatesEstados Unidos Mexicanos (Spanish)</th>\n",
       "      <th>United Mexican StatesEstados Unidos Mexicanos (Spanish).1</th>\n",
       "    </tr>\n",
       "  </thead>\n",
       "  <tbody>\n",
       "    <tr>\n",
       "      <th>0</th>\n",
       "      <td>Flag  Coat of arms</td>\n",
       "      <td>Flag  Coat of arms</td>\n",
       "    </tr>\n",
       "    <tr>\n",
       "      <th>1</th>\n",
       "      <td>Motto: La Patria Es Primero (Spanish)(\"The Hom...</td>\n",
       "      <td>Motto: La Patria Es Primero (Spanish)(\"The Hom...</td>\n",
       "    </tr>\n",
       "    <tr>\n",
       "      <th>2</th>\n",
       "      <td>Anthem: Himno Nacional Mexicano(\"Mexican Natio...</td>\n",
       "      <td>Anthem: Himno Nacional Mexicano(\"Mexican Natio...</td>\n",
       "    </tr>\n",
       "    <tr>\n",
       "      <th>3</th>\n",
       "      <td>NaN</td>\n",
       "      <td>NaN</td>\n",
       "    </tr>\n",
       "    <tr>\n",
       "      <th>4</th>\n",
       "      <td>Capitaland largest city</td>\n",
       "      <td>Mexico City19°26′N 99°8′W﻿ / ﻿19.433°N 99.133°W</td>\n",
       "    </tr>\n",
       "  </tbody>\n",
       "</table>\n",
       "</div>"
      ],
      "text/plain": [
       "  United Mexican StatesEstados Unidos Mexicanos (Spanish)  \\\n",
       "0                                 Flag  Coat of arms        \n",
       "1  Motto: La Patria Es Primero (Spanish)(\"The Hom...        \n",
       "2  Anthem: Himno Nacional Mexicano(\"Mexican Natio...        \n",
       "3                                                NaN        \n",
       "4                            Capitaland largest city        \n",
       "\n",
       "  United Mexican StatesEstados Unidos Mexicanos (Spanish).1  \n",
       "0                                 Flag  Coat of arms         \n",
       "1  Motto: La Patria Es Primero (Spanish)(\"The Hom...         \n",
       "2  Anthem: Himno Nacional Mexicano(\"Mexican Natio...         \n",
       "3                                                NaN         \n",
       "4    Mexico City19°26′N 99°8′W﻿ / ﻿19.433°N 99.133°W         "
      ]
     },
     "execution_count": 14,
     "metadata": {},
     "output_type": "execute_result"
    }
   ],
   "source": [
    "tables[0].head(5)"
   ]
  },
  {
   "cell_type": "markdown",
   "metadata": {},
   "source": [
    "We want the table of *\"Largest metropolitan areas in Mexico\"*"
   ]
  },
  {
   "cell_type": "code",
   "execution_count": 7,
   "metadata": {},
   "outputs": [
    {
     "data": {
      "text/plain": [
       "1"
      ]
     },
     "execution_count": 7,
     "metadata": {},
     "output_type": "execute_result"
    }
   ],
   "source": [
    "largest_cities = pd.read_html(\"https://en.wikipedia.org/wiki/Mexico\",\n",
    "                              match=\"Largest\")\n",
    "\n",
    "len(largest_cities)"
   ]
  },
  {
   "cell_type": "markdown",
   "metadata": {},
   "source": [
    "We found it!"
   ]
  },
  {
   "cell_type": "code",
   "execution_count": 13,
   "metadata": {},
   "outputs": [
    {
     "data": {
      "text/html": [
       "<div>\n",
       "<style scoped>\n",
       "    .dataframe tbody tr th:only-of-type {\n",
       "        vertical-align: middle;\n",
       "    }\n",
       "\n",
       "    .dataframe tbody tr th {\n",
       "        vertical-align: top;\n",
       "    }\n",
       "\n",
       "    .dataframe thead tr th {\n",
       "        text-align: left;\n",
       "    }\n",
       "</style>\n",
       "<table border=\"1\" class=\"dataframe\">\n",
       "  <thead>\n",
       "    <tr>\n",
       "      <th></th>\n",
       "      <th colspan=\"10\" halign=\"left\">.mw-parser-output .navbar{display:inline;font-size:88%;font-weight:normal}.mw-parser-output .navbar-collapse{float:left;text-align:left}.mw-parser-output .navbar-boxtext{word-spacing:0}.mw-parser-output .navbar ul{display:inline-block;white-space:nowrap;line-height:inherit}.mw-parser-output .navbar-brackets::before{margin-right:-0.125em;content:\"[ \"}.mw-parser-output .navbar-brackets::after{margin-left:-0.125em;content:\" ]\"}.mw-parser-output .navbar li{word-spacing:-0.125em}.mw-parser-output .navbar a&gt;span,.mw-parser-output .navbar a&gt;abbr{text-decoration:inherit}.mw-parser-output .navbar-mini abbr{font-variant:small-caps;border-bottom:none;text-decoration:none;cursor:inherit}.mw-parser-output .navbar-ct-full{font-size:114%;margin:0 7em}.mw-parser-output .navbar-ct-mini{font-size:114%;margin:0 4em}vte Largest metropolitan areas in Mexico2020 National Population Census[370]</th>\n",
       "    </tr>\n",
       "    <tr>\n",
       "      <th></th>\n",
       "      <th>Unnamed: 0_level_1</th>\n",
       "      <th>Rank</th>\n",
       "      <th>Name</th>\n",
       "      <th>State</th>\n",
       "      <th>Pop.</th>\n",
       "      <th>Rank.1</th>\n",
       "      <th>Name.1</th>\n",
       "      <th>State.1</th>\n",
       "      <th>Pop..1</th>\n",
       "      <th>Unnamed: 9_level_1</th>\n",
       "    </tr>\n",
       "  </thead>\n",
       "  <tbody>\n",
       "    <tr>\n",
       "      <th>0</th>\n",
       "      <td>Valley of MexicoMonterrey</td>\n",
       "      <td>1</td>\n",
       "      <td>Valley of Mexico</td>\n",
       "      <td>Mexico City, State of Mexico, Hidalgo</td>\n",
       "      <td>21804515.0</td>\n",
       "      <td>11.0</td>\n",
       "      <td>Mérida</td>\n",
       "      <td>Yucatán</td>\n",
       "      <td>1316088.0</td>\n",
       "      <td>GuadalajaraPuebla–Tlaxcala</td>\n",
       "    </tr>\n",
       "    <tr>\n",
       "      <th>1</th>\n",
       "      <td>Valley of MexicoMonterrey</td>\n",
       "      <td>2</td>\n",
       "      <td>Monterrey</td>\n",
       "      <td>Nuevo León</td>\n",
       "      <td>5341171.0</td>\n",
       "      <td>12.0</td>\n",
       "      <td>San Luis Potosí</td>\n",
       "      <td>San Luis Potosí</td>\n",
       "      <td>1271366.0</td>\n",
       "      <td>GuadalajaraPuebla–Tlaxcala</td>\n",
       "    </tr>\n",
       "    <tr>\n",
       "      <th>2</th>\n",
       "      <td>Valley of MexicoMonterrey</td>\n",
       "      <td>3</td>\n",
       "      <td>Guadalajara</td>\n",
       "      <td>Jalisco</td>\n",
       "      <td>5286642.0</td>\n",
       "      <td>13.0</td>\n",
       "      <td>Aguascalientes</td>\n",
       "      <td>Aguascalientes</td>\n",
       "      <td>1140916.0</td>\n",
       "      <td>GuadalajaraPuebla–Tlaxcala</td>\n",
       "    </tr>\n",
       "    <tr>\n",
       "      <th>3</th>\n",
       "      <td>Valley of MexicoMonterrey</td>\n",
       "      <td>4</td>\n",
       "      <td>Puebla–Tlaxcala</td>\n",
       "      <td>Puebla, Tlaxcala</td>\n",
       "      <td>3199530.0</td>\n",
       "      <td>14.0</td>\n",
       "      <td>Mexicali</td>\n",
       "      <td>Baja California</td>\n",
       "      <td>1031779.0</td>\n",
       "      <td>GuadalajaraPuebla–Tlaxcala</td>\n",
       "    </tr>\n",
       "    <tr>\n",
       "      <th>4</th>\n",
       "      <td>Valley of MexicoMonterrey</td>\n",
       "      <td>5</td>\n",
       "      <td>Toluca</td>\n",
       "      <td>State of Mexico</td>\n",
       "      <td>2353924.0</td>\n",
       "      <td>15.0</td>\n",
       "      <td>Saltillo</td>\n",
       "      <td>Coahuila</td>\n",
       "      <td>1031779.0</td>\n",
       "      <td>GuadalajaraPuebla–Tlaxcala</td>\n",
       "    </tr>\n",
       "    <tr>\n",
       "      <th>5</th>\n",
       "      <td>Valley of MexicoMonterrey</td>\n",
       "      <td>6</td>\n",
       "      <td>Tijuana</td>\n",
       "      <td>Baja California</td>\n",
       "      <td>2157853.0</td>\n",
       "      <td>16.0</td>\n",
       "      <td>Cuernavaca</td>\n",
       "      <td>Morelos</td>\n",
       "      <td>1028589.0</td>\n",
       "      <td>GuadalajaraPuebla–Tlaxcala</td>\n",
       "    </tr>\n",
       "    <tr>\n",
       "      <th>6</th>\n",
       "      <td>Valley of MexicoMonterrey</td>\n",
       "      <td>7</td>\n",
       "      <td>León</td>\n",
       "      <td>Guanajuato</td>\n",
       "      <td>1924771.0</td>\n",
       "      <td>17.0</td>\n",
       "      <td>Culiacán</td>\n",
       "      <td>Sinaloa</td>\n",
       "      <td>1003530.0</td>\n",
       "      <td>GuadalajaraPuebla–Tlaxcala</td>\n",
       "    </tr>\n",
       "    <tr>\n",
       "      <th>7</th>\n",
       "      <td>Valley of MexicoMonterrey</td>\n",
       "      <td>8</td>\n",
       "      <td>Querétaro</td>\n",
       "      <td>Querétaro</td>\n",
       "      <td>1594212.0</td>\n",
       "      <td>18.0</td>\n",
       "      <td>Morelia</td>\n",
       "      <td>Michoacán</td>\n",
       "      <td>988704.0</td>\n",
       "      <td>GuadalajaraPuebla–Tlaxcala</td>\n",
       "    </tr>\n",
       "    <tr>\n",
       "      <th>8</th>\n",
       "      <td>Valley of MexicoMonterrey</td>\n",
       "      <td>9</td>\n",
       "      <td>Juárez</td>\n",
       "      <td>Chihuahua</td>\n",
       "      <td>1512450.0</td>\n",
       "      <td>19.0</td>\n",
       "      <td>Chihuahua</td>\n",
       "      <td>Chihuahua</td>\n",
       "      <td>988065.0</td>\n",
       "      <td>GuadalajaraPuebla–Tlaxcala</td>\n",
       "    </tr>\n",
       "    <tr>\n",
       "      <th>9</th>\n",
       "      <td>Valley of MexicoMonterrey</td>\n",
       "      <td>10</td>\n",
       "      <td>La Laguna</td>\n",
       "      <td>Coahuila, Durango</td>\n",
       "      <td>1434283.0</td>\n",
       "      <td>20.0</td>\n",
       "      <td>Veracruz</td>\n",
       "      <td>Veracruz</td>\n",
       "      <td>939046.0</td>\n",
       "      <td>GuadalajaraPuebla–Tlaxcala</td>\n",
       "    </tr>\n",
       "  </tbody>\n",
       "</table>\n",
       "</div>"
      ],
      "text/plain": [
       "  .mw-parser-output .navbar{display:inline;font-size:88%;font-weight:normal}.mw-parser-output .navbar-collapse{float:left;text-align:left}.mw-parser-output .navbar-boxtext{word-spacing:0}.mw-parser-output .navbar ul{display:inline-block;white-space:nowrap;line-height:inherit}.mw-parser-output .navbar-brackets::before{margin-right:-0.125em;content:\"[ \"}.mw-parser-output .navbar-brackets::after{margin-left:-0.125em;content:\" ]\"}.mw-parser-output .navbar li{word-spacing:-0.125em}.mw-parser-output .navbar a>span,.mw-parser-output .navbar a>abbr{text-decoration:inherit}.mw-parser-output .navbar-mini abbr{font-variant:small-caps;border-bottom:none;text-decoration:none;cursor:inherit}.mw-parser-output .navbar-ct-full{font-size:114%;margin:0 7em}.mw-parser-output .navbar-ct-mini{font-size:114%;margin:0 4em}vte Largest metropolitan areas in Mexico2020 National Population Census[370]  \\\n",
       "                                                                                                                                                                                                                                                                                                                                                                                                                                                                                                                                                                                                                                                                                                                                                                                                                                                                                                    Unnamed: 0_level_1   \n",
       "0                          Valley of MexicoMonterrey                                                                                                                                                                                                                                                                                                                                                                                                                                                                                                                                                                                                                                                                                                                                                                                                                                                                     \n",
       "1                          Valley of MexicoMonterrey                                                                                                                                                                                                                                                                                                                                                                                                                                                                                                                                                                                                                                                                                                                                                                                                                                                                     \n",
       "2                          Valley of MexicoMonterrey                                                                                                                                                                                                                                                                                                                                                                                                                                                                                                                                                                                                                                                                                                                                                                                                                                                                     \n",
       "3                          Valley of MexicoMonterrey                                                                                                                                                                                                                                                                                                                                                                                                                                                                                                                                                                                                                                                                                                                                                                                                                                                                     \n",
       "4                          Valley of MexicoMonterrey                                                                                                                                                                                                                                                                                                                                                                                                                                                                                                                                                                                                                                                                                                                                                                                                                                                                     \n",
       "5                          Valley of MexicoMonterrey                                                                                                                                                                                                                                                                                                                                                                                                                                                                                                                                                                                                                                                                                                                                                                                                                                                                     \n",
       "6                          Valley of MexicoMonterrey                                                                                                                                                                                                                                                                                                                                                                                                                                                                                                                                                                                                                                                                                                                                                                                                                                                                     \n",
       "7                          Valley of MexicoMonterrey                                                                                                                                                                                                                                                                                                                                                                                                                                                                                                                                                                                                                                                                                                                                                                                                                                                                     \n",
       "8                          Valley of MexicoMonterrey                                                                                                                                                                                                                                                                                                                                                                                                                                                                                                                                                                                                                                                                                                                                                                                                                                                                     \n",
       "9                          Valley of MexicoMonterrey                                                                                                                                                                                                                                                                                                                                                                                                                                                                                                                                                                                                                                                                                                                                                                                                                                                                     \n",
       "\n",
       "                                                                             \\\n",
       "  Rank              Name                                  State        Pop.   \n",
       "0    1  Valley of Mexico  Mexico City, State of Mexico, Hidalgo  21804515.0   \n",
       "1    2         Monterrey                             Nuevo León   5341171.0   \n",
       "2    3       Guadalajara                                Jalisco   5286642.0   \n",
       "3    4   Puebla–Tlaxcala                       Puebla, Tlaxcala   3199530.0   \n",
       "4    5            Toluca                        State of Mexico   2353924.0   \n",
       "5    6           Tijuana                        Baja California   2157853.0   \n",
       "6    7              León                             Guanajuato   1924771.0   \n",
       "7    8         Querétaro                              Querétaro   1594212.0   \n",
       "8    9            Juárez                              Chihuahua   1512450.0   \n",
       "9   10         La Laguna                      Coahuila, Durango   1434283.0   \n",
       "\n",
       "                                                       \\\n",
       "  Rank.1           Name.1          State.1     Pop..1   \n",
       "0   11.0           Mérida          Yucatán  1316088.0   \n",
       "1   12.0  San Luis Potosí  San Luis Potosí  1271366.0   \n",
       "2   13.0   Aguascalientes   Aguascalientes  1140916.0   \n",
       "3   14.0         Mexicali  Baja California  1031779.0   \n",
       "4   15.0         Saltillo         Coahuila  1031779.0   \n",
       "5   16.0       Cuernavaca          Morelos  1028589.0   \n",
       "6   17.0         Culiacán          Sinaloa  1003530.0   \n",
       "7   18.0          Morelia        Michoacán   988704.0   \n",
       "8   19.0        Chihuahua        Chihuahua   988065.0   \n",
       "9   20.0         Veracruz         Veracruz   939046.0   \n",
       "\n",
       "                               \n",
       "           Unnamed: 9_level_1  \n",
       "0  GuadalajaraPuebla–Tlaxcala  \n",
       "1  GuadalajaraPuebla–Tlaxcala  \n",
       "2  GuadalajaraPuebla–Tlaxcala  \n",
       "3  GuadalajaraPuebla–Tlaxcala  \n",
       "4  GuadalajaraPuebla–Tlaxcala  \n",
       "5  GuadalajaraPuebla–Tlaxcala  \n",
       "6  GuadalajaraPuebla–Tlaxcala  \n",
       "7  GuadalajaraPuebla–Tlaxcala  \n",
       "8  GuadalajaraPuebla–Tlaxcala  \n",
       "9  GuadalajaraPuebla–Tlaxcala  "
      ]
     },
     "execution_count": 13,
     "metadata": {},
     "output_type": "execute_result"
    }
   ],
   "source": [
    "largest_cities[0].head(10)"
   ]
  },
  {
   "cell_type": "markdown",
   "metadata": {},
   "source": [
    "Note: Python has a great module for *scrapping* web pages, called [BeautifulSoup](https://www.crummy.com/software/BeautifulSoup/)."
   ]
  },
  {
   "cell_type": "markdown",
   "metadata": {},
   "source": [
    "## APIs\n",
    "\n",
    "An **API** (application programming interface) lets us request information and processes using the Internet. It is a fundamental piece of modern applications, as it allows un uncouple monoliths into microservices.\n",
    "\n",
    "![API diagram](images/api.png)"
   ]
  },
  {
   "cell_type": "code",
   "execution_count": 18,
   "metadata": {},
   "outputs": [
    {
     "name": "stdout",
     "output_type": "stream",
     "text": [
      "HTTP Response code: <Response [200]>\n",
      "200\n"
     ]
    }
   ],
   "source": [
    "import requests\n",
    "\n",
    "url = \"https://api.ipify.org/?format=json\"\n",
    "\n",
    "response = requests.request(\"GET\", url)\n",
    "\n",
    "print(\"HTTP Response code:\", response)"
   ]
  },
  {
   "cell_type": "code",
   "execution_count": 32,
   "metadata": {},
   "outputs": [
    {
     "name": "stdout",
     "output_type": "stream",
     "text": [
      "{'ip': '38.99.125.23'}\n",
      "My Public IP is: 38.99.125.23\n"
     ]
    }
   ],
   "source": [
    "print(response.json())\n",
    "\n",
    "my_ip = response.json()[\"ip\"]\n",
    "\n",
    "print(\"My Public IP is: \" + my_ip)"
   ]
  },
  {
   "cell_type": "code",
   "execution_count": 33,
   "metadata": {},
   "outputs": [
    {
     "name": "stdout",
     "output_type": "stream",
     "text": [
      "HTTP Response code: <Response [200]>\n"
     ]
    }
   ],
   "source": [
    "url = \"https://ipinfo.io/\" + my_ip +\"/geo\"\n",
    "\n",
    "response = requests.request(\"GET\", url)\n",
    "\n",
    "print(\"HTTP Response code:\", response)"
   ]
  },
  {
   "cell_type": "code",
   "execution_count": 36,
   "metadata": {},
   "outputs": [
    {
     "name": "stdout",
     "output_type": "stream",
     "text": [
      "{'city': 'Sunnyvale',\n",
      " 'country': 'US',\n",
      " 'ip': '38.99.125.23',\n",
      " 'loc': '37.3983,-122.0006',\n",
      " 'org': 'AS393229 Oportun,Inc.',\n",
      " 'postal': '94089',\n",
      " 'readme': 'https://ipinfo.io/missingauth',\n",
      " 'region': 'California',\n",
      " 'timezone': 'America/Los_Angeles'}\n"
     ]
    }
   ],
   "source": [
    "from pprint import pprint\n",
    "\n",
    "pprint(response.json())"
   ]
  },
  {
   "cell_type": "code",
   "execution_count": 56,
   "metadata": {},
   "outputs": [
    {
     "data": {
      "application/vnd.plotly.v1+json": {
       "config": {
        "plotlyServerURL": "https://plot.ly"
       },
       "data": [
        {
         "geo": "geo",
         "hovertemplate": "<b>%{hovertext}</b><br><br>lat=%{lat}<br>lon=%{lon}<extra></extra>",
         "hovertext": [
          "Sunnyvale"
         ],
         "lat": [
          "37.3983"
         ],
         "legendgroup": "",
         "lon": [
          "-122.0006"
         ],
         "marker": {
          "color": "#636efa",
          "symbol": "circle"
         },
         "mode": "markers",
         "name": "",
         "showlegend": false,
         "type": "scattergeo"
        }
       ],
       "layout": {
        "geo": {
         "center": {},
         "domain": {
          "x": [
           0,
           1
          ],
          "y": [
           0,
           1
          ]
         }
        },
        "legend": {
         "tracegroupgap": 0
        },
        "margin": {
         "t": 60
        },
        "template": {
         "data": {
          "bar": [
           {
            "error_x": {
             "color": "#2a3f5f"
            },
            "error_y": {
             "color": "#2a3f5f"
            },
            "marker": {
             "line": {
              "color": "#E5ECF6",
              "width": 0.5
             },
             "pattern": {
              "fillmode": "overlay",
              "size": 10,
              "solidity": 0.2
             }
            },
            "type": "bar"
           }
          ],
          "barpolar": [
           {
            "marker": {
             "line": {
              "color": "#E5ECF6",
              "width": 0.5
             },
             "pattern": {
              "fillmode": "overlay",
              "size": 10,
              "solidity": 0.2
             }
            },
            "type": "barpolar"
           }
          ],
          "carpet": [
           {
            "aaxis": {
             "endlinecolor": "#2a3f5f",
             "gridcolor": "white",
             "linecolor": "white",
             "minorgridcolor": "white",
             "startlinecolor": "#2a3f5f"
            },
            "baxis": {
             "endlinecolor": "#2a3f5f",
             "gridcolor": "white",
             "linecolor": "white",
             "minorgridcolor": "white",
             "startlinecolor": "#2a3f5f"
            },
            "type": "carpet"
           }
          ],
          "choropleth": [
           {
            "colorbar": {
             "outlinewidth": 0,
             "ticks": ""
            },
            "type": "choropleth"
           }
          ],
          "contour": [
           {
            "colorbar": {
             "outlinewidth": 0,
             "ticks": ""
            },
            "colorscale": [
             [
              0,
              "#0d0887"
             ],
             [
              0.1111111111111111,
              "#46039f"
             ],
             [
              0.2222222222222222,
              "#7201a8"
             ],
             [
              0.3333333333333333,
              "#9c179e"
             ],
             [
              0.4444444444444444,
              "#bd3786"
             ],
             [
              0.5555555555555556,
              "#d8576b"
             ],
             [
              0.6666666666666666,
              "#ed7953"
             ],
             [
              0.7777777777777778,
              "#fb9f3a"
             ],
             [
              0.8888888888888888,
              "#fdca26"
             ],
             [
              1,
              "#f0f921"
             ]
            ],
            "type": "contour"
           }
          ],
          "contourcarpet": [
           {
            "colorbar": {
             "outlinewidth": 0,
             "ticks": ""
            },
            "type": "contourcarpet"
           }
          ],
          "heatmap": [
           {
            "colorbar": {
             "outlinewidth": 0,
             "ticks": ""
            },
            "colorscale": [
             [
              0,
              "#0d0887"
             ],
             [
              0.1111111111111111,
              "#46039f"
             ],
             [
              0.2222222222222222,
              "#7201a8"
             ],
             [
              0.3333333333333333,
              "#9c179e"
             ],
             [
              0.4444444444444444,
              "#bd3786"
             ],
             [
              0.5555555555555556,
              "#d8576b"
             ],
             [
              0.6666666666666666,
              "#ed7953"
             ],
             [
              0.7777777777777778,
              "#fb9f3a"
             ],
             [
              0.8888888888888888,
              "#fdca26"
             ],
             [
              1,
              "#f0f921"
             ]
            ],
            "type": "heatmap"
           }
          ],
          "heatmapgl": [
           {
            "colorbar": {
             "outlinewidth": 0,
             "ticks": ""
            },
            "colorscale": [
             [
              0,
              "#0d0887"
             ],
             [
              0.1111111111111111,
              "#46039f"
             ],
             [
              0.2222222222222222,
              "#7201a8"
             ],
             [
              0.3333333333333333,
              "#9c179e"
             ],
             [
              0.4444444444444444,
              "#bd3786"
             ],
             [
              0.5555555555555556,
              "#d8576b"
             ],
             [
              0.6666666666666666,
              "#ed7953"
             ],
             [
              0.7777777777777778,
              "#fb9f3a"
             ],
             [
              0.8888888888888888,
              "#fdca26"
             ],
             [
              1,
              "#f0f921"
             ]
            ],
            "type": "heatmapgl"
           }
          ],
          "histogram": [
           {
            "marker": {
             "pattern": {
              "fillmode": "overlay",
              "size": 10,
              "solidity": 0.2
             }
            },
            "type": "histogram"
           }
          ],
          "histogram2d": [
           {
            "colorbar": {
             "outlinewidth": 0,
             "ticks": ""
            },
            "colorscale": [
             [
              0,
              "#0d0887"
             ],
             [
              0.1111111111111111,
              "#46039f"
             ],
             [
              0.2222222222222222,
              "#7201a8"
             ],
             [
              0.3333333333333333,
              "#9c179e"
             ],
             [
              0.4444444444444444,
              "#bd3786"
             ],
             [
              0.5555555555555556,
              "#d8576b"
             ],
             [
              0.6666666666666666,
              "#ed7953"
             ],
             [
              0.7777777777777778,
              "#fb9f3a"
             ],
             [
              0.8888888888888888,
              "#fdca26"
             ],
             [
              1,
              "#f0f921"
             ]
            ],
            "type": "histogram2d"
           }
          ],
          "histogram2dcontour": [
           {
            "colorbar": {
             "outlinewidth": 0,
             "ticks": ""
            },
            "colorscale": [
             [
              0,
              "#0d0887"
             ],
             [
              0.1111111111111111,
              "#46039f"
             ],
             [
              0.2222222222222222,
              "#7201a8"
             ],
             [
              0.3333333333333333,
              "#9c179e"
             ],
             [
              0.4444444444444444,
              "#bd3786"
             ],
             [
              0.5555555555555556,
              "#d8576b"
             ],
             [
              0.6666666666666666,
              "#ed7953"
             ],
             [
              0.7777777777777778,
              "#fb9f3a"
             ],
             [
              0.8888888888888888,
              "#fdca26"
             ],
             [
              1,
              "#f0f921"
             ]
            ],
            "type": "histogram2dcontour"
           }
          ],
          "mesh3d": [
           {
            "colorbar": {
             "outlinewidth": 0,
             "ticks": ""
            },
            "type": "mesh3d"
           }
          ],
          "parcoords": [
           {
            "line": {
             "colorbar": {
              "outlinewidth": 0,
              "ticks": ""
             }
            },
            "type": "parcoords"
           }
          ],
          "pie": [
           {
            "automargin": true,
            "type": "pie"
           }
          ],
          "scatter": [
           {
            "fillpattern": {
             "fillmode": "overlay",
             "size": 10,
             "solidity": 0.2
            },
            "type": "scatter"
           }
          ],
          "scatter3d": [
           {
            "line": {
             "colorbar": {
              "outlinewidth": 0,
              "ticks": ""
             }
            },
            "marker": {
             "colorbar": {
              "outlinewidth": 0,
              "ticks": ""
             }
            },
            "type": "scatter3d"
           }
          ],
          "scattercarpet": [
           {
            "marker": {
             "colorbar": {
              "outlinewidth": 0,
              "ticks": ""
             }
            },
            "type": "scattercarpet"
           }
          ],
          "scattergeo": [
           {
            "marker": {
             "colorbar": {
              "outlinewidth": 0,
              "ticks": ""
             }
            },
            "type": "scattergeo"
           }
          ],
          "scattergl": [
           {
            "marker": {
             "colorbar": {
              "outlinewidth": 0,
              "ticks": ""
             }
            },
            "type": "scattergl"
           }
          ],
          "scattermapbox": [
           {
            "marker": {
             "colorbar": {
              "outlinewidth": 0,
              "ticks": ""
             }
            },
            "type": "scattermapbox"
           }
          ],
          "scatterpolar": [
           {
            "marker": {
             "colorbar": {
              "outlinewidth": 0,
              "ticks": ""
             }
            },
            "type": "scatterpolar"
           }
          ],
          "scatterpolargl": [
           {
            "marker": {
             "colorbar": {
              "outlinewidth": 0,
              "ticks": ""
             }
            },
            "type": "scatterpolargl"
           }
          ],
          "scatterternary": [
           {
            "marker": {
             "colorbar": {
              "outlinewidth": 0,
              "ticks": ""
             }
            },
            "type": "scatterternary"
           }
          ],
          "surface": [
           {
            "colorbar": {
             "outlinewidth": 0,
             "ticks": ""
            },
            "colorscale": [
             [
              0,
              "#0d0887"
             ],
             [
              0.1111111111111111,
              "#46039f"
             ],
             [
              0.2222222222222222,
              "#7201a8"
             ],
             [
              0.3333333333333333,
              "#9c179e"
             ],
             [
              0.4444444444444444,
              "#bd3786"
             ],
             [
              0.5555555555555556,
              "#d8576b"
             ],
             [
              0.6666666666666666,
              "#ed7953"
             ],
             [
              0.7777777777777778,
              "#fb9f3a"
             ],
             [
              0.8888888888888888,
              "#fdca26"
             ],
             [
              1,
              "#f0f921"
             ]
            ],
            "type": "surface"
           }
          ],
          "table": [
           {
            "cells": {
             "fill": {
              "color": "#EBF0F8"
             },
             "line": {
              "color": "white"
             }
            },
            "header": {
             "fill": {
              "color": "#C8D4E3"
             },
             "line": {
              "color": "white"
             }
            },
            "type": "table"
           }
          ]
         },
         "layout": {
          "annotationdefaults": {
           "arrowcolor": "#2a3f5f",
           "arrowhead": 0,
           "arrowwidth": 1
          },
          "autotypenumbers": "strict",
          "coloraxis": {
           "colorbar": {
            "outlinewidth": 0,
            "ticks": ""
           }
          },
          "colorscale": {
           "diverging": [
            [
             0,
             "#8e0152"
            ],
            [
             0.1,
             "#c51b7d"
            ],
            [
             0.2,
             "#de77ae"
            ],
            [
             0.3,
             "#f1b6da"
            ],
            [
             0.4,
             "#fde0ef"
            ],
            [
             0.5,
             "#f7f7f7"
            ],
            [
             0.6,
             "#e6f5d0"
            ],
            [
             0.7,
             "#b8e186"
            ],
            [
             0.8,
             "#7fbc41"
            ],
            [
             0.9,
             "#4d9221"
            ],
            [
             1,
             "#276419"
            ]
           ],
           "sequential": [
            [
             0,
             "#0d0887"
            ],
            [
             0.1111111111111111,
             "#46039f"
            ],
            [
             0.2222222222222222,
             "#7201a8"
            ],
            [
             0.3333333333333333,
             "#9c179e"
            ],
            [
             0.4444444444444444,
             "#bd3786"
            ],
            [
             0.5555555555555556,
             "#d8576b"
            ],
            [
             0.6666666666666666,
             "#ed7953"
            ],
            [
             0.7777777777777778,
             "#fb9f3a"
            ],
            [
             0.8888888888888888,
             "#fdca26"
            ],
            [
             1,
             "#f0f921"
            ]
           ],
           "sequentialminus": [
            [
             0,
             "#0d0887"
            ],
            [
             0.1111111111111111,
             "#46039f"
            ],
            [
             0.2222222222222222,
             "#7201a8"
            ],
            [
             0.3333333333333333,
             "#9c179e"
            ],
            [
             0.4444444444444444,
             "#bd3786"
            ],
            [
             0.5555555555555556,
             "#d8576b"
            ],
            [
             0.6666666666666666,
             "#ed7953"
            ],
            [
             0.7777777777777778,
             "#fb9f3a"
            ],
            [
             0.8888888888888888,
             "#fdca26"
            ],
            [
             1,
             "#f0f921"
            ]
           ]
          },
          "colorway": [
           "#636efa",
           "#EF553B",
           "#00cc96",
           "#ab63fa",
           "#FFA15A",
           "#19d3f3",
           "#FF6692",
           "#B6E880",
           "#FF97FF",
           "#FECB52"
          ],
          "font": {
           "color": "#2a3f5f"
          },
          "geo": {
           "bgcolor": "white",
           "lakecolor": "white",
           "landcolor": "#E5ECF6",
           "showlakes": true,
           "showland": true,
           "subunitcolor": "white"
          },
          "hoverlabel": {
           "align": "left"
          },
          "hovermode": "closest",
          "mapbox": {
           "style": "light"
          },
          "paper_bgcolor": "white",
          "plot_bgcolor": "#E5ECF6",
          "polar": {
           "angularaxis": {
            "gridcolor": "white",
            "linecolor": "white",
            "ticks": ""
           },
           "bgcolor": "#E5ECF6",
           "radialaxis": {
            "gridcolor": "white",
            "linecolor": "white",
            "ticks": ""
           }
          },
          "scene": {
           "xaxis": {
            "backgroundcolor": "#E5ECF6",
            "gridcolor": "white",
            "gridwidth": 2,
            "linecolor": "white",
            "showbackground": true,
            "ticks": "",
            "zerolinecolor": "white"
           },
           "yaxis": {
            "backgroundcolor": "#E5ECF6",
            "gridcolor": "white",
            "gridwidth": 2,
            "linecolor": "white",
            "showbackground": true,
            "ticks": "",
            "zerolinecolor": "white"
           },
           "zaxis": {
            "backgroundcolor": "#E5ECF6",
            "gridcolor": "white",
            "gridwidth": 2,
            "linecolor": "white",
            "showbackground": true,
            "ticks": "",
            "zerolinecolor": "white"
           }
          },
          "shapedefaults": {
           "line": {
            "color": "#2a3f5f"
           }
          },
          "ternary": {
           "aaxis": {
            "gridcolor": "white",
            "linecolor": "white",
            "ticks": ""
           },
           "baxis": {
            "gridcolor": "white",
            "linecolor": "white",
            "ticks": ""
           },
           "bgcolor": "#E5ECF6",
           "caxis": {
            "gridcolor": "white",
            "linecolor": "white",
            "ticks": ""
           }
          },
          "title": {
           "x": 0.05
          },
          "xaxis": {
           "automargin": true,
           "gridcolor": "white",
           "linecolor": "white",
           "ticks": "",
           "title": {
            "standoff": 15
           },
           "zerolinecolor": "white",
           "zerolinewidth": 2
          },
          "yaxis": {
           "automargin": true,
           "gridcolor": "white",
           "linecolor": "white",
           "ticks": "",
           "title": {
            "standoff": 15
           },
           "zerolinecolor": "white",
           "zerolinewidth": 2
          }
         }
        }
       }
      }
     },
     "metadata": {},
     "output_type": "display_data"
    }
   ],
   "source": [
    "import plotly.express as px\n",
    "\n",
    "df = pd.DataFrame(response.json(), index=[0])\n",
    "\n",
    "coordinates = list(df[\"loc\"].str.split(\",\")[0])\n",
    "\n",
    "df[\"lat\"] = coordinates[0]\n",
    "df[\"lon\"] = coordinates[1]\n",
    "\n",
    "px.scatter_geo(\n",
    "    df,\n",
    "    lat=\"lat\",\n",
    "    lon=\"lon\",\n",
    "    hover_name=\"city\",\n",
    ")"
   ]
  },
  {
   "cell_type": "markdown",
   "metadata": {},
   "source": [
    "We can load data directly from an API URL."
   ]
  },
  {
   "cell_type": "code",
   "execution_count": 58,
   "metadata": {},
   "outputs": [],
   "source": [
    "country = \"mexico\"\n",
    "info = \"confirmed\"\n",
    "\n",
    "covid = pd.read_json(\"https://api.covid19api.com/dayone/country/\" + country + \"/status/\" + info)"
   ]
  },
  {
   "cell_type": "code",
   "execution_count": 59,
   "metadata": {},
   "outputs": [
    {
     "data": {
      "text/html": [
       "<div>\n",
       "<style scoped>\n",
       "    .dataframe tbody tr th:only-of-type {\n",
       "        vertical-align: middle;\n",
       "    }\n",
       "\n",
       "    .dataframe tbody tr th {\n",
       "        vertical-align: top;\n",
       "    }\n",
       "\n",
       "    .dataframe thead th {\n",
       "        text-align: right;\n",
       "    }\n",
       "</style>\n",
       "<table border=\"1\" class=\"dataframe\">\n",
       "  <thead>\n",
       "    <tr style=\"text-align: right;\">\n",
       "      <th></th>\n",
       "      <th>Country</th>\n",
       "      <th>CountryCode</th>\n",
       "      <th>Province</th>\n",
       "      <th>City</th>\n",
       "      <th>CityCode</th>\n",
       "      <th>Lat</th>\n",
       "      <th>Lon</th>\n",
       "      <th>Cases</th>\n",
       "      <th>Status</th>\n",
       "      <th>Date</th>\n",
       "    </tr>\n",
       "  </thead>\n",
       "  <tbody>\n",
       "    <tr>\n",
       "      <th>0</th>\n",
       "      <td>Mexico</td>\n",
       "      <td>MX</td>\n",
       "      <td></td>\n",
       "      <td></td>\n",
       "      <td></td>\n",
       "      <td>23.63</td>\n",
       "      <td>-102.55</td>\n",
       "      <td>1</td>\n",
       "      <td>confirmed</td>\n",
       "      <td>2020-02-28 00:00:00+00:00</td>\n",
       "    </tr>\n",
       "    <tr>\n",
       "      <th>1</th>\n",
       "      <td>Mexico</td>\n",
       "      <td>MX</td>\n",
       "      <td></td>\n",
       "      <td></td>\n",
       "      <td></td>\n",
       "      <td>23.63</td>\n",
       "      <td>-102.55</td>\n",
       "      <td>4</td>\n",
       "      <td>confirmed</td>\n",
       "      <td>2020-02-29 00:00:00+00:00</td>\n",
       "    </tr>\n",
       "    <tr>\n",
       "      <th>2</th>\n",
       "      <td>Mexico</td>\n",
       "      <td>MX</td>\n",
       "      <td></td>\n",
       "      <td></td>\n",
       "      <td></td>\n",
       "      <td>23.63</td>\n",
       "      <td>-102.55</td>\n",
       "      <td>5</td>\n",
       "      <td>confirmed</td>\n",
       "      <td>2020-03-01 00:00:00+00:00</td>\n",
       "    </tr>\n",
       "    <tr>\n",
       "      <th>3</th>\n",
       "      <td>Mexico</td>\n",
       "      <td>MX</td>\n",
       "      <td></td>\n",
       "      <td></td>\n",
       "      <td></td>\n",
       "      <td>23.63</td>\n",
       "      <td>-102.55</td>\n",
       "      <td>5</td>\n",
       "      <td>confirmed</td>\n",
       "      <td>2020-03-02 00:00:00+00:00</td>\n",
       "    </tr>\n",
       "    <tr>\n",
       "      <th>4</th>\n",
       "      <td>Mexico</td>\n",
       "      <td>MX</td>\n",
       "      <td></td>\n",
       "      <td></td>\n",
       "      <td></td>\n",
       "      <td>23.63</td>\n",
       "      <td>-102.55</td>\n",
       "      <td>5</td>\n",
       "      <td>confirmed</td>\n",
       "      <td>2020-03-03 00:00:00+00:00</td>\n",
       "    </tr>\n",
       "  </tbody>\n",
       "</table>\n",
       "</div>"
      ],
      "text/plain": [
       "  Country CountryCode Province City CityCode    Lat     Lon  Cases     Status  \\\n",
       "0  Mexico          MX                         23.63 -102.55      1  confirmed   \n",
       "1  Mexico          MX                         23.63 -102.55      4  confirmed   \n",
       "2  Mexico          MX                         23.63 -102.55      5  confirmed   \n",
       "3  Mexico          MX                         23.63 -102.55      5  confirmed   \n",
       "4  Mexico          MX                         23.63 -102.55      5  confirmed   \n",
       "\n",
       "                       Date  \n",
       "0 2020-02-28 00:00:00+00:00  \n",
       "1 2020-02-29 00:00:00+00:00  \n",
       "2 2020-03-01 00:00:00+00:00  \n",
       "3 2020-03-02 00:00:00+00:00  \n",
       "4 2020-03-03 00:00:00+00:00  "
      ]
     },
     "execution_count": 59,
     "metadata": {},
     "output_type": "execute_result"
    }
   ],
   "source": [
    "covid.head(5)"
   ]
  },
  {
   "cell_type": "code",
   "execution_count": 62,
   "metadata": {},
   "outputs": [
    {
     "data": {
      "text/plain": [
       "<AxesSubplot:xlabel='Date'>"
      ]
     },
     "execution_count": 62,
     "metadata": {},
     "output_type": "execute_result"
    },
    {
     "data": {
      "image/png": "[encoded data removed]",
      "text/plain": [
       "<Figure size 432x288 with 1 Axes>"
      ]
     },
     "metadata": {
      "needs_background": "light"
     },
     "output_type": "display_data"
    }
   ],
   "source": [
    "covid.plot(\n",
    "    x=\"Date\",\n",
    "    y=\"Cases\",\n",
    "    kind=\"area\",\n",
    ")"
   ]
  },
  {
   "cell_type": "code",
   "execution_count": null,
   "metadata": {},
   "outputs": [],
   "source": []
  }
 ],
 "metadata": {
  "kernelspec": {
   "display_name": "Python 3.9.13 ('venv': venv)",
   "language": "python",
   "name": "python3"
  },
  "language_info": {
   "codemirror_mode": {
    "name": "ipython",
    "version": 3
   },
   "file_extension": ".py",
   "mimetype": "text/x-python",
   "name": "python",
   "nbconvert_exporter": "python",
   "pygments_lexer": "ipython3",
   "version": "3.9.13"
  },
  "vscode": {
   "interpreter": {
    "hash": "64df410153adfaa36bfb0cd6d7a2c0d642c620bc76cf7a0bd7609c85fbbdc3eb"
   }
  }
 },
 "nbformat": 4,
 "nbformat_minor": 4
}
